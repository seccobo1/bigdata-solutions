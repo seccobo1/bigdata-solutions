{
 "cells": [
  {
   "cell_type": "markdown",
   "metadata": {},
   "source": [
    "# MongoDB\n",
    "\n",
    "Based on https://docs.mongodb.com/getting-started \n"
   ]
  },
  {
   "cell_type": "markdown",
   "metadata": {},
   "source": [
    "MongoDB is a **NoSQL** open-source **document database**.  MongoDB provides horizontal scaling by replicating and partitioning the data over multiple nodes. This can improve the reliability and scalability of the system.\n",
    "\n",
    "A record in MongoDB is a **document**, which is a data structure composed of field and value pairs. MongoDB documents are similar to JSON objects or Python dictionaries. The values of fields may include other documents, arrays, and arrays of documents.\n",
    "\n",
    "This is an example of a document:\n",
    "```JSON\n",
    "{\n",
    "   \"_id\" : ObjectId(\"54c955492b7c8eb21818bd09\"),\n",
    "   \"address\" : {\n",
    "      \"street\" : \"2 Avenue\",\n",
    "      \"zipcode\" : \"10075\",\n",
    "      \"building\" : \"1480\",\n",
    "      \"coord\" : [ -73.9557413, 40.7720266 ]\n",
    "   },\n",
    "   \"borough\" : \"Manhattan\",\n",
    "   \"cuisine\" : \"Italian\",\n",
    "   \"grades\" : [\n",
    "      {\n",
    "         \"date\" : ISODate(\"2014-10-01T00:00:00Z\"),\n",
    "         \"grade\" : \"A\",\n",
    "         \"score\" : 11\n",
    "      },\n",
    "      {\n",
    "         \"date\" : ISODate(\"2014-01-16T00:00:00Z\"),\n",
    "         \"grade\" : \"B\",\n",
    "         \"score\" : 17\n",
    "      }\n",
    "   ],\n",
    "   \"name\" : \"Vella\",\n",
    "   \"restaurant_id\" : \"41704620\"\n",
    "}\n",
    "```\n",
    "In MongoDB, documents have a unique **_id** field that acts as a primary key. MongoDB automatically adds a unique _id to each document if you are not providing it by yourself.\n",
    "\n",
    "MongoDB stores documents in **collections**. Collections are analogous to tables in relational databases. Unlike a table, however, a collection does not require its documents to have the same schema.\n",
    "\n",
    "You can start a Docker image with MongoDB like this:\n",
    "```bash\n",
    "docker run -p 27017:27017 -d mongo\n",
    "```\n",
    "\n",
    "In production you really (!) would need to enable authentication with username and password, but for development purposes this is fine."
   ]
  },
  {
   "cell_type": "code",
   "execution_count": 1,
   "metadata": {
    "collapsed": true,
    "jupyter": {
     "outputs_hidden": true
    }
   },
   "outputs": [],
   "source": [
    "# Install the pymongo Python Package \n",
    "# !pip3 install pymongo"
   ]
  },
  {
   "cell_type": "code",
   "execution_count": 1,
   "metadata": {},
   "outputs": [],
   "source": [
    "from pymongo import MongoClient\n",
    "from pprint import pprint\n",
    "import requests "
   ]
  },
  {
   "cell_type": "markdown",
   "metadata": {},
   "source": [
    "Use MongoClient to create a connection. If you do not specify any arguments to MongoClient, then MongoClient defaults to the MongoDB instance that runs on the localhost interface on port 27017. You can also specify a complete MongoDB URI to define the connection, including explicitly specifying the host and port number. For example, the following creates a connection to a MongoDB instance that runs on mongodb0.example.net and the port of 27017: client = MongoClient(\"mongodb://mongodb0.example.net:27017\")"
   ]
  },
  {
   "cell_type": "code",
   "execution_count": 2,
   "metadata": {},
   "outputs": [],
   "source": [
    "# Client connects to \"localhost\" by default \n",
    "client = MongoClient()"
   ]
  },
  {
   "cell_type": "markdown",
   "metadata": {},
   "source": [
    "The first fundamental class of objects you will interact with using pymongo is Database which represents the database construct in MongoDB. Databases hold groups of logically related collections. MongoDB creates new databases implicitly upon their first use. Connect (create) with a database of your name, e.g. \n",
    "\n",
    "```python\n",
    "db = client[\"rolandmueller\"]\n",
    "``` \n",
    "or \n",
    "\n",
    "```python\n",
    "db = client.rolandmueller\n",
    "```"
   ]
  },
  {
   "cell_type": "code",
   "execution_count": 3,
   "metadata": {},
   "outputs": [],
   "source": [
    "# Create local \"bipm\" database on the fly \n",
    "db = client['bipm']"
   ]
  },
  {
   "cell_type": "code",
   "execution_count": 4,
   "metadata": {},
   "outputs": [],
   "source": [
    "# When we rerun the whole notebook, we start from scratch \n",
    "# by dropping the colection \"courses\"\n",
    "db.courses.drop()"
   ]
  },
  {
   "cell_type": "code",
   "execution_count": 5,
   "metadata": {},
   "outputs": [],
   "source": [
    "# Create a Python Dictonary\n",
    "courses = [\n",
    "    {'title': 'Data Science',\n",
    "     'lecturer': {\n",
    "         'name': 'Markus Löcher',\n",
    "         'department': 'Math',\n",
    "         'status': 'Professor'\n",
    "     },\n",
    "     'semester': 1},\n",
    "    {'title': 'Data Warehousing',\n",
    "     'lecturer': {\n",
    "         'name': 'Roland M. Mueller',\n",
    "         'department': 'Information Systems',\n",
    "         'status': 'Professor'\n",
    "     },\n",
    "     'semester': 1},\n",
    "    {'title': 'Business Process Management',\n",
    "     'lecturer': {\n",
    "         'name': 'Frank Habermann',\n",
    "         'department': 'Information Systems',\n",
    "         'status': 'Professor'\n",
    "     },\n",
    "     'semester': 1},\n",
    "    {'title': 'Stratigic Issues of IT',\n",
    "     'lecturer': {\n",
    "         'name': 'Sven Pohland',\n",
    "         'department': 'Information Systems',\n",
    "         'status': 'Professor'\n",
    "     },\n",
    "     'semester': 1},\n",
    "    {'title': 'Text, Web and Social Media Analytics Lab',\n",
    "     'lecturer': {\n",
    "         'name': 'Markus Löcher',\n",
    "         'department': 'Math',\n",
    "         'status': 'Professor'\n",
    "     },\n",
    "     'semester': 2},\n",
    "    {'title': 'Enterprise Architectures for Big Data',\n",
    "     'lecturer': {\n",
    "         'name': 'Roland M. Mueller',\n",
    "         'department': 'Information Systems',\n",
    "         'status': 'Professor'\n",
    "     },\n",
    "     'semester': 2},\n",
    "    {'title': 'Business Process Integration Lab',\n",
    "     'lecturer': {\n",
    "         'name': 'Frank Habermann',\n",
    "         'department': 'Information Systems',\n",
    "         'status': 'Professor'\n",
    "     },\n",
    "     'semester': 2},\n",
    "    {'title': 'IT-Security and Privacy',\n",
    "     'lecturer': {\n",
    "         'name': 'Dennis Uckel',\n",
    "         'department': 'Information Systems',\n",
    "         'status': 'External'\n",
    "     },\n",
    "     'semester': 2},\n",
    "    {'title': 'Research Methods',\n",
    "     'lecturer': {\n",
    "         'name': 'Marcus Birkenkrahe',\n",
    "         'department': 'Information Systems',\n",
    "         'status': 'Professor'\n",
    "     },\n",
    "     'semester': 2},\n",
    "]"
   ]
  },
  {
   "cell_type": "code",
   "execution_count": 6,
   "metadata": {},
   "outputs": [
    {
     "name": "stdout",
     "output_type": "stream",
     "text": [
      "[{'lecturer': {'department': 'Math',\n",
      "               'name': 'Markus Löcher',\n",
      "               'status': 'Professor'},\n",
      "  'semester': 1,\n",
      "  'title': 'Data Science'},\n",
      " {'lecturer': {'department': 'Information Systems',\n",
      "               'name': 'Roland M. Mueller',\n",
      "               'status': 'Professor'},\n",
      "  'semester': 1,\n",
      "  'title': 'Data Warehousing'},\n",
      " {'lecturer': {'department': 'Information Systems',\n",
      "               'name': 'Frank Habermann',\n",
      "               'status': 'Professor'},\n",
      "  'semester': 1,\n",
      "  'title': 'Business Process Management'},\n",
      " {'lecturer': {'department': 'Information Systems',\n",
      "               'name': 'Sven Pohland',\n",
      "               'status': 'Professor'},\n",
      "  'semester': 1,\n",
      "  'title': 'Stratigic Issues of IT'},\n",
      " {'lecturer': {'department': 'Math',\n",
      "               'name': 'Markus Löcher',\n",
      "               'status': 'Professor'},\n",
      "  'semester': 2,\n",
      "  'title': 'Text, Web and Social Media Analytics Lab'},\n",
      " {'lecturer': {'department': 'Information Systems',\n",
      "               'name': 'Roland M. Mueller',\n",
      "               'status': 'Professor'},\n",
      "  'semester': 2,\n",
      "  'title': 'Enterprise Architectures for Big Data'},\n",
      " {'lecturer': {'department': 'Information Systems',\n",
      "               'name': 'Frank Habermann',\n",
      "               'status': 'Professor'},\n",
      "  'semester': 2,\n",
      "  'title': 'Business Process Integration Lab'},\n",
      " {'lecturer': {'department': 'Information Systems',\n",
      "               'name': 'Dennis Uckel',\n",
      "               'status': 'External'},\n",
      "  'semester': 2,\n",
      "  'title': 'IT-Security and Privacy'},\n",
      " {'lecturer': {'department': 'Information Systems',\n",
      "               'name': 'Marcus Birkenkrahe',\n",
      "               'status': 'Professor'},\n",
      "  'semester': 2,\n",
      "  'title': 'Research Methods'}]\n"
     ]
    }
   ],
   "source": [
    "pprint(courses)"
   ]
  },
  {
   "cell_type": "markdown",
   "metadata": {},
   "source": [
    "## insert_many()\n",
    "\n",
    "You can use the `insert_one()` method and the `insert_many()` method to add documents to a collection in MongoDB. If you attempt to add documents to a collection that does not exist, MongoDB will create the collection for you."
   ]
  },
  {
   "cell_type": "code",
   "execution_count": 7,
   "metadata": {},
   "outputs": [
    {
     "data": {
      "text/plain": [
       "<pymongo.results.InsertManyResult at 0x7f93360eb5c0>"
      ]
     },
     "execution_count": 7,
     "metadata": {},
     "output_type": "execute_result"
    }
   ],
   "source": [
    "db.courses.insert_many(courses)"
   ]
  },
  {
   "cell_type": "markdown",
   "metadata": {},
   "source": [
    "## find()\n",
    "\n",
    "You can use the find() method to issue a query to retrieve data from a collection in MongoDB. All queries in MongoDB have the scope of a single collection.\n",
    "Queries can return all documents in a collection or only the documents that match a specified filter or criteria. You can specify the filter or criteria in a document and pass as a parameter to the find() method. With no parameter, find() returns all documents in the collection.\n",
    "\n",
    "The find() method returns query results in a cursor, which is an iterable object that yields documents. Then you can print all documents.\n",
    "\n",
    "```python\n",
    "cursor = db.my_collection.find()\n",
    "\n",
    "for document in cursor:\n",
    "    pprint(document)\n",
    "```\n"
   ]
  },
  {
   "cell_type": "code",
   "execution_count": 16,
   "metadata": {},
   "outputs": [
    {
     "name": "stdout",
     "output_type": "stream",
     "text": [
      "{'_id': ObjectId('609fde8897b4e4e307161d61'),\n",
      " 'lecturer': {'department': 'Math',\n",
      "              'name': 'Markus Löcher',\n",
      "              'status': 'Professor'},\n",
      " 'semester': 1,\n",
      " 'title': 'Data Science'}\n",
      "{'_id': ObjectId('609fde8897b4e4e307161d62'),\n",
      " 'lecturer': {'department': 'Information Systems',\n",
      "              'name': 'Roland M. Mueller',\n",
      "              'status': 'Professor'},\n",
      " 'semester': 1,\n",
      " 'title': 'Data Warehousing'}\n",
      "{'_id': ObjectId('609fde8897b4e4e307161d63'),\n",
      " 'lecturer': {'department': 'Information Systems',\n",
      "              'name': 'Frank Habermann',\n",
      "              'status': 'Professor'},\n",
      " 'semester': 1,\n",
      " 'title': 'Business Process Management'}\n",
      "{'_id': ObjectId('609fde8897b4e4e307161d64'),\n",
      " 'lecturer': {'department': 'Information Systems',\n",
      "              'name': 'Sven Pohland',\n",
      "              'status': 'Professor'},\n",
      " 'semester': 1,\n",
      " 'title': 'Stratigic Issues of IT'}\n",
      "{'_id': ObjectId('609fde8897b4e4e307161d65'),\n",
      " 'lecturer': {'department': 'Math',\n",
      "              'name': 'Markus Löcher',\n",
      "              'status': 'Professor'},\n",
      " 'semester': 2,\n",
      " 'title': 'Text, Web and Social Media Analytics Lab'}\n",
      "{'_id': ObjectId('609fde8897b4e4e307161d66'),\n",
      " 'lecturer': {'department': 'Information Systems',\n",
      "              'name': 'Roland M. Mueller',\n",
      "              'status': 'Professor'},\n",
      " 'semester': 2,\n",
      " 'title': 'Enterprise Architectures for Big Data'}\n",
      "{'_id': ObjectId('609fde8897b4e4e307161d67'),\n",
      " 'lecturer': {'department': 'Information Systems',\n",
      "              'name': 'Frank Habermann',\n",
      "              'status': 'Professor'},\n",
      " 'semester': 2,\n",
      " 'title': 'Business Process Integration Lab'}\n",
      "{'_id': ObjectId('609fde8897b4e4e307161d68'),\n",
      " 'lecturer': {'department': 'Information Systems',\n",
      "              'name': 'Dennis Uckel',\n",
      "              'status': 'External'},\n",
      " 'semester': 2,\n",
      " 'title': 'IT-Security and Privacy'}\n",
      "{'_id': ObjectId('609fde8897b4e4e307161d69'),\n",
      " 'lecturer': {'department': 'Information Systems',\n",
      "              'name': 'Marcus Birkenkrahe',\n",
      "              'status': 'Professor'},\n",
      " 'semester': 2,\n",
      " 'title': 'Research Methods'}\n"
     ]
    }
   ],
   "source": [
    "# TODO: Print all courses\n",
    "cursor = db.courses.find()\n",
    "\n",
    "for document in cursor:\n",
    "    pprint(document)"
   ]
  },
  {
   "cell_type": "markdown",
   "metadata": {},
   "source": [
    "## JSON\n",
    "\n",
    "You can store a JSON document if you convert it before to a Python dictionary:"
   ]
  },
  {
   "cell_type": "code",
   "execution_count": 18,
   "metadata": {},
   "outputs": [
    {
     "data": {
      "text/plain": [
       "{'title': 'Master Thesis', 'semester': 3}"
      ]
     },
     "execution_count": 18,
     "metadata": {},
     "output_type": "execute_result"
    }
   ],
   "source": [
    "import json\n",
    "my_json = '{\"title\": \"Master Thesis\", \"semester\": 3}'\n",
    "another_course = json.loads(my_json)\n",
    "another_course"
   ]
  },
  {
   "cell_type": "markdown",
   "metadata": {},
   "source": [
    "## insert_one()\n",
    "\n",
    "The `insert_one()` method adds the document into the collection.\n"
   ]
  },
  {
   "cell_type": "code",
   "execution_count": 19,
   "metadata": {},
   "outputs": [
    {
     "data": {
      "text/plain": [
       "<pymongo.results.InsertOneResult at 0x7f9335f66c40>"
      ]
     },
     "execution_count": 19,
     "metadata": {},
     "output_type": "execute_result"
    }
   ],
   "source": [
    "# TODO: Store `another_course` as another course:\n",
    "db.courses.insert_one(another_course)"
   ]
  },
  {
   "cell_type": "code",
   "execution_count": 20,
   "metadata": {},
   "outputs": [
    {
     "name": "stdout",
     "output_type": "stream",
     "text": [
      "{'_id': ObjectId('609fde8897b4e4e307161d61'),\n",
      " 'lecturer': {'department': 'Math',\n",
      "              'name': 'Markus Löcher',\n",
      "              'status': 'Professor'},\n",
      " 'semester': 1,\n",
      " 'title': 'Data Science'}\n",
      "{'_id': ObjectId('609fde8897b4e4e307161d62'),\n",
      " 'lecturer': {'department': 'Information Systems',\n",
      "              'name': 'Roland M. Mueller',\n",
      "              'status': 'Professor'},\n",
      " 'semester': 1,\n",
      " 'title': 'Data Warehousing'}\n",
      "{'_id': ObjectId('609fde8897b4e4e307161d63'),\n",
      " 'lecturer': {'department': 'Information Systems',\n",
      "              'name': 'Frank Habermann',\n",
      "              'status': 'Professor'},\n",
      " 'semester': 1,\n",
      " 'title': 'Business Process Management'}\n",
      "{'_id': ObjectId('609fde8897b4e4e307161d64'),\n",
      " 'lecturer': {'department': 'Information Systems',\n",
      "              'name': 'Sven Pohland',\n",
      "              'status': 'Professor'},\n",
      " 'semester': 1,\n",
      " 'title': 'Stratigic Issues of IT'}\n",
      "{'_id': ObjectId('609fde8897b4e4e307161d65'),\n",
      " 'lecturer': {'department': 'Math',\n",
      "              'name': 'Markus Löcher',\n",
      "              'status': 'Professor'},\n",
      " 'semester': 2,\n",
      " 'title': 'Text, Web and Social Media Analytics Lab'}\n",
      "{'_id': ObjectId('609fde8897b4e4e307161d66'),\n",
      " 'lecturer': {'department': 'Information Systems',\n",
      "              'name': 'Roland M. Mueller',\n",
      "              'status': 'Professor'},\n",
      " 'semester': 2,\n",
      " 'title': 'Enterprise Architectures for Big Data'}\n",
      "{'_id': ObjectId('609fde8897b4e4e307161d67'),\n",
      " 'lecturer': {'department': 'Information Systems',\n",
      "              'name': 'Frank Habermann',\n",
      "              'status': 'Professor'},\n",
      " 'semester': 2,\n",
      " 'title': 'Business Process Integration Lab'}\n",
      "{'_id': ObjectId('609fde8897b4e4e307161d68'),\n",
      " 'lecturer': {'department': 'Information Systems',\n",
      "              'name': 'Dennis Uckel',\n",
      "              'status': 'External'},\n",
      " 'semester': 2,\n",
      " 'title': 'IT-Security and Privacy'}\n",
      "{'_id': ObjectId('609fde8897b4e4e307161d69'),\n",
      " 'lecturer': {'department': 'Information Systems',\n",
      "              'name': 'Marcus Birkenkrahe',\n",
      "              'status': 'Professor'},\n",
      " 'semester': 2,\n",
      " 'title': 'Research Methods'}\n",
      "{'_id': ObjectId('609fe1ed97b4e4e307161d6a'),\n",
      " 'semester': 3,\n",
      " 'title': 'Master Thesis'}\n"
     ]
    }
   ],
   "source": [
    "# TODO: Print all courses\n",
    "cursor = db.courses.find()\n",
    "\n",
    "for document in cursor:\n",
    "    pprint(document)"
   ]
  },
  {
   "cell_type": "markdown",
   "metadata": {},
   "source": [
    "## find_one() and find()\n",
    "\n",
    "`find_one()` returns the first match. ```find()```returns all matches.\n",
    "\n",
    "The query condition for `find_one()` and `find()` for an equality match on fields has the following form:\n",
    "```python\n",
    "{ <field1>: <value1>, <field2>: <value2>, ... } \n",
    "```\n",
    "\n",
    "The following operation finds the first documents whose name field equals \"Manhattan\".\n",
    "\n",
    "```python\n",
    "cursor = db.restaurants.find_one({\"name\": \"Manhattan\"})\n",
    "```\n"
   ]
  },
  {
   "cell_type": "code",
   "execution_count": 21,
   "metadata": {},
   "outputs": [
    {
     "name": "stdout",
     "output_type": "stream",
     "text": [
      "{'_id': ObjectId('609fde8897b4e4e307161d61'),\n",
      " 'lecturer': {'department': 'Math',\n",
      "              'name': 'Markus Löcher',\n",
      "              'status': 'Professor'},\n",
      " 'semester': 1,\n",
      " 'title': 'Data Science'}\n"
     ]
    }
   ],
   "source": [
    "# TODO: Find the course with the title \"Data Science\" \n",
    "# save the result in a varibale result\n",
    "# and pprint the result.\n",
    "result = db.courses.find_one({'title': 'Data Science'})\n",
    "pprint(result)"
   ]
  },
  {
   "cell_type": "code",
   "execution_count": 22,
   "metadata": {},
   "outputs": [
    {
     "name": "stdout",
     "output_type": "stream",
     "text": [
      "609fde8897b4e4e307161d61\n",
      "Markus Löcher\n"
     ]
    }
   ],
   "source": [
    "print(result[\"_id\"])\n",
    "print(result[\"lecturer\"][\"name\"])"
   ]
  },
  {
   "cell_type": "code",
   "execution_count": 24,
   "metadata": {},
   "outputs": [
    {
     "name": "stdout",
     "output_type": "stream",
     "text": [
      "{'_id': ObjectId('609fde8897b4e4e307161d65'),\n",
      " 'lecturer': {'department': 'Math',\n",
      "              'name': 'Markus Löcher',\n",
      "              'status': 'Professor'},\n",
      " 'semester': 2,\n",
      " 'title': 'Text, Web and Social Media Analytics Lab'}\n"
     ]
    }
   ],
   "source": [
    "# TODO: Find the first course (one course) in the second semester\n",
    "# and print it\n",
    "result = db.courses.find_one({'semester': 2})\n",
    "pprint(result)"
   ]
  },
  {
   "cell_type": "code",
   "execution_count": 26,
   "metadata": {},
   "outputs": [
    {
     "name": "stdout",
     "output_type": "stream",
     "text": [
      "'Text, Web and Social Media Analytics Lab'\n",
      "'Enterprise Architectures for Big Data'\n",
      "'Business Process Integration Lab'\n",
      "'IT-Security and Privacy'\n",
      "'Research Methods'\n"
     ]
    }
   ],
   "source": [
    "# TODO: Find all courses in the second semester\n",
    "# and print the course titles\n",
    "cursor = db.courses.find({'semester': 2})\n",
    "\n",
    "for document in cursor:\n",
    "    pprint(document['title'])"
   ]
  },
  {
   "cell_type": "code",
   "execution_count": 27,
   "metadata": {},
   "outputs": [
    {
     "name": "stdout",
     "output_type": "stream",
     "text": [
      "'Markus Löcher'\n",
      "'Roland M. Mueller'\n",
      "'Frank Habermann'\n",
      "'Dennis Uckel'\n",
      "'Marcus Birkenkrahe'\n"
     ]
    }
   ],
   "source": [
    "# TODO: Find all courses in the second semester\n",
    "# and print the lecturers names\n",
    "cursor = db.courses.find({'semester': 2})\n",
    "\n",
    "for document in cursor:\n",
    "    pprint(document['lecturer']['name'])"
   ]
  },
  {
   "cell_type": "markdown",
   "metadata": {},
   "source": [
    "## Subelements\n",
    "\n",
    "Sometimes documents contains embedded documents as its elements. To specify a condition on a field in these documents, use the dot notation. Dot notation requires quotes around the whole dotted field name. The following queries for documents whose grades array contains an embedded document with a field grade equal to \"B\".\n",
    "\n",
    "```python\n",
    "cursor = db.restaurants.find({\"grades.grade\": \"B\"})\n",
    "```"
   ]
  },
  {
   "cell_type": "code",
   "execution_count": 30,
   "metadata": {},
   "outputs": [
    {
     "name": "stdout",
     "output_type": "stream",
     "text": [
      "'Business Process Management'\n",
      "1\n",
      "'Business Process Integration Lab'\n",
      "2\n"
     ]
    }
   ],
   "source": [
    "# TODO: Find all courses of Frank Habermann\n",
    "# and print the title and the semester\n",
    "cursor = db.courses.find({'lecturer.name': 'Frank Habermann'})\n",
    "\n",
    "for document in cursor:\n",
    "    pprint(document['title'])\n",
    "    pprint(document['semester'])"
   ]
  },
  {
   "cell_type": "markdown",
   "metadata": {},
   "source": [
    "## Logical AND\n",
    "\n",
    "You can specify a logical conjunction (AND) for a list of query conditions by separating the conditions with a comma in the conditions document.\n",
    "\n",
    "```python\n",
    "cursor = db.restaurants.find({\"cuisine\": \"Italian\", \"address.zipcode\": \"10075\"})\n",
    "```"
   ]
  },
  {
   "cell_type": "code",
   "execution_count": 31,
   "metadata": {},
   "outputs": [
    {
     "name": "stdout",
     "output_type": "stream",
     "text": [
      "'Business Process Integration Lab'\n",
      "2\n"
     ]
    }
   ],
   "source": [
    "# TODO: Find all courses from Frank Habermann in the second semester\n",
    "# and print the title and the semester\n",
    "cursor = db.courses.find({'lecturer.name': 'Frank Habermann', 'semester': 2})\n",
    "\n",
    "for document in cursor:\n",
    "    pprint(document['title'])\n",
    "    pprint(document['semester'])"
   ]
  },
  {
   "cell_type": "markdown",
   "metadata": {},
   "source": [
    "## Logical OR\n",
    "\n",
    "You can specify a logical disjunction (OR) for a list of query conditions by using the $or query operator.\n",
    "\n",
    "```python\n",
    "cursor = db.restaurants.find({\"$or\": [{\"cuisine\": \"Italian\"}, {\"address.zipcode\": \"10075\"}]})\n",
    "```\n"
   ]
  },
  {
   "cell_type": "code",
   "execution_count": 32,
   "metadata": {
    "scrolled": true
   },
   "outputs": [
    {
     "name": "stdout",
     "output_type": "stream",
     "text": [
      "'Data Science'\n",
      "1\n",
      "'Business Process Management'\n",
      "1\n",
      "'Text, Web and Social Media Analytics Lab'\n",
      "2\n",
      "'Business Process Integration Lab'\n",
      "2\n"
     ]
    }
   ],
   "source": [
    "# TODO: Find all courses from Frank Habermann or Markus Löcher\n",
    "# and print the title and the semester\n",
    "cursor = db.courses.find({'$or': [{'lecturer.name': 'Frank Habermann'}, {'lecturer.name': 'Markus Löcher'}]})\n",
    "\n",
    "for document in cursor:\n",
    "    pprint(document['title'])\n",
    "    pprint(document['semester'])"
   ]
  },
  {
   "cell_type": "markdown",
   "metadata": {},
   "source": [
    "## Greater than, Less than\n",
    "\n",
    "MongoDB provides operators to specify query conditions, such as comparison operators. Query conditions using operators generally have the following form:\n",
    "```python\n",
    "{ <field1>: { <operator1>: <value1> } }\n",
    "```\n",
    "\n",
    "Greater Than Operator (`$gt`). Query for documents whose grades array contains an embedded document with a field score greater than 30.\n",
    "\n",
    "```python\n",
    "cursor = db.restaurants.find({\"grades.score\": {\"$gt\": 30}})\n",
    "```\n",
    "\n",
    "Less Than Operator (`$lt`). Query for documents whose grades array contains an embedded document with a field score less than 10.\n",
    "\n",
    "```python\n",
    "cursor = db.restaurants.find({\"grades.score\": {\"$lt\": 10}})\n",
    "```\n",
    "\n"
   ]
  },
  {
   "cell_type": "code",
   "execution_count": 33,
   "metadata": {
    "scrolled": true
   },
   "outputs": [
    {
     "name": "stdout",
     "output_type": "stream",
     "text": [
      "'Text, Web and Social Media Analytics Lab'\n",
      "2\n",
      "'Enterprise Architectures for Big Data'\n",
      "2\n",
      "'Business Process Integration Lab'\n",
      "2\n",
      "'IT-Security and Privacy'\n",
      "2\n",
      "'Research Methods'\n",
      "2\n",
      "'Master Thesis'\n",
      "3\n"
     ]
    }
   ],
   "source": [
    "# TODO: Find all courses in semester greater than 1\n",
    "# and print the title and the semester\n",
    "cursor = db.courses.find({'semester':{'$gt': 1}})\n",
    "\n",
    "for document in cursor:\n",
    "    pprint(document['title'])\n",
    "    pprint(document['semester'])"
   ]
  },
  {
   "cell_type": "markdown",
   "metadata": {},
   "source": [
    "## Counting\n",
    "\n",
    "`count_documents()` works like `find()` but returns the number of matched documents-"
   ]
  },
  {
   "cell_type": "code",
   "execution_count": 34,
   "metadata": {},
   "outputs": [
    {
     "name": "stdout",
     "output_type": "stream",
     "text": [
      "5\n"
     ]
    }
   ],
   "source": [
    "# TODO: How many courses are in the second semester?\n",
    "count = db.courses.count_documents({'semester' : 2})\n",
    "print(count)"
   ]
  },
  {
   "cell_type": "markdown",
   "metadata": {},
   "source": [
    "# Downloading Nobel Prize Winners with an API and storing them in MongoDB\n",
    "\n",
    "![](https://upload.wikimedia.org/wikipedia/en/e/ed/Nobel_Prize.png)\n",
    "The Nobel Prize offers a Web API https://nobelprize.readme.io/docs/prize\n",
    "\n",
    "Because the API is giving us JSON and MongoDB is able to store documents in a JSON-like format, using a document database like MongoDB seems like a good fit to store the results of the API.  You can get all laureates at http://api.nobelprize.org/v1/laureate.json and all prizes at http://api.nobelprize.org/v1/prize.json\n",
    "\n",
    "We will just download all laureates and prizes and store them in MongoDB!"
   ]
  },
  {
   "cell_type": "code",
   "execution_count": 35,
   "metadata": {},
   "outputs": [],
   "source": [
    "# Create local \"nobel\" database on the fly \n",
    "db = client[\"nobel\"]\n",
    "db.prizes.drop()\n",
    "db.laureates.drop()\n",
    "# API documented at https://nobelprize.readme.io/docs/prize \n",
    "for collection_name in [\"prizes\", \"laureates\"]:\n",
    "    singular = collection_name[:-1] # the API uses singular\n",
    "    response = requests.get( \"http://api.nobelprize.org/v1/{}.json\".format(singular)) \n",
    "    documents = response.json()[collection_name] \n",
    "    # Create collections on the fly \n",
    "    db[collection_name].insert_many(documents)"
   ]
  },
  {
   "cell_type": "code",
   "execution_count": 36,
   "metadata": {},
   "outputs": [
    {
     "name": "stdout",
     "output_type": "stream",
     "text": [
      "{'_id': ObjectId('609feab997b4e4e307161ff7'),\n",
      " 'born': '1845-03-27',\n",
      " 'bornCity': 'Lennep (now Remscheid)',\n",
      " 'bornCountry': 'Prussia (now Germany)',\n",
      " 'bornCountryCode': 'DE',\n",
      " 'died': '1923-02-10',\n",
      " 'diedCity': 'Munich',\n",
      " 'diedCountry': 'Germany',\n",
      " 'diedCountryCode': 'DE',\n",
      " 'firstname': 'Wilhelm Conrad',\n",
      " 'gender': 'male',\n",
      " 'id': '1',\n",
      " 'prizes': [{'affiliations': [{'city': 'Munich',\n",
      "                               'country': 'Germany',\n",
      "                               'name': 'Munich University'}],\n",
      "             'category': 'physics',\n",
      "             'motivation': '\"in recognition of the extraordinary services he '\n",
      "                           'has rendered by the discovery of the remarkable '\n",
      "                           'rays subsequently named after him\"',\n",
      "             'share': '1',\n",
      "             'year': '1901'}],\n",
      " 'surname': 'Röntgen'}\n"
     ]
    }
   ],
   "source": [
    "pprint(db.laureates.find_one())"
   ]
  },
  {
   "cell_type": "code",
   "execution_count": 43,
   "metadata": {},
   "outputs": [
    {
     "name": "stdout",
     "output_type": "stream",
     "text": [
      "Wilhelm Conrad\n"
     ]
    }
   ],
   "source": [
    "# TODO: Print the first name of the first document\n",
    "result = db.laureates.find_one({'id' : '1'})\n",
    "print(result['firstname'])"
   ]
  },
  {
   "cell_type": "markdown",
   "metadata": {},
   "source": [
    "With `count_documents` you can count the number of matching documents. "
   ]
  },
  {
   "cell_type": "code",
   "execution_count": 44,
   "metadata": {},
   "outputs": [
    {
     "name": "stdout",
     "output_type": "stream",
     "text": [
      "57\n"
     ]
    }
   ],
   "source": [
    "# How many female laureates exists?\n",
    "count = db.laureates.count_documents({'gender':'female'})\n",
    "print(count)"
   ]
  },
  {
   "cell_type": "markdown",
   "metadata": {},
   "source": [
    "With the `$regex` function you can use a regular expression. `distinct` list only all distinct entries."
   ]
  },
  {
   "cell_type": "code",
   "execution_count": 48,
   "metadata": {},
   "outputs": [
    {
     "data": {
      "text/plain": [
       "['Prussia (now Germany)',\n",
       " 'Hesse-Kassel (now Germany)',\n",
       " 'Germany',\n",
       " 'Schleswig (now Germany)',\n",
       " 'Germany (now Poland)',\n",
       " 'Germany (now France)',\n",
       " 'West Germany (now Germany)',\n",
       " 'Bavaria (now Germany)',\n",
       " 'Germany (now Russia)',\n",
       " 'Mecklenburg (now Germany)',\n",
       " 'W&uuml;rttemberg (now Germany)',\n",
       " 'East Friesland (now Germany)']"
      ]
     },
     "execution_count": 48,
     "metadata": {},
     "output_type": "execute_result"
    }
   ],
   "source": [
    "db.laureates.distinct(\"bornCountry\", {\"bornCountry\": {\"$regex\": \"Germany\"}})"
   ]
  },
  {
   "cell_type": "code",
   "execution_count": 67,
   "metadata": {},
   "outputs": [
    {
     "data": {
      "text/plain": [
       "82"
      ]
     },
     "execution_count": 67,
     "metadata": {},
     "output_type": "execute_result"
    }
   ],
   "source": [
    "# TODO: How many laureates are from Germany?\n",
    "db.laureates.count_documents({\"bornCountry\": {\"$regex\": \"now Germany\"}})+db.laureates.count_documents({'bornCountry': 'Germany'})"
   ]
  },
  {
   "cell_type": "code",
   "execution_count": 70,
   "metadata": {},
   "outputs": [
    {
     "data": {
      "text/plain": [
       "82"
      ]
     },
     "execution_count": 70,
     "metadata": {},
     "output_type": "execute_result"
    }
   ],
   "source": [
    "db.laureates.count_documents({'$or': [{'bornCountry' : {'$regex': 'now Germany'}}, {'bornCountry': 'Germany'}]})"
   ]
  },
  {
   "cell_type": "code",
   "execution_count": 71,
   "metadata": {},
   "outputs": [
    {
     "name": "stdout",
     "output_type": "stream",
     "text": [
      "'1901'\n",
      "'Wilhelm Conrad'\n",
      "'Röntgen'\n",
      "'1909'\n",
      "'Ferdinand'\n",
      "'Braun'\n",
      "'1914'\n",
      "'Max'\n",
      "'von Laue'\n",
      "'1918'\n",
      "'Max'\n",
      "'Planck'\n",
      "'1919'\n",
      "'Johannes'\n",
      "'Stark'\n",
      "'1921'\n",
      "'Albert'\n",
      "'Einstein'\n",
      "'1925'\n",
      "'James'\n",
      "'Franck'\n",
      "'1925'\n",
      "'Gustav'\n",
      "'Hertz'\n",
      "'1932'\n",
      "'Werner'\n",
      "'Heisenberg'\n",
      "'1954'\n",
      "'Walther'\n",
      "'Bothe'\n",
      "'1955'\n",
      "'Polykarp'\n",
      "'Kusch'\n",
      "'1961'\n",
      "'Rudolf'\n",
      "'Mössbauer'\n",
      "'1963'\n",
      "'J. Hans D.'\n",
      "'Jensen'\n",
      "'1978'\n",
      "'Arno'\n",
      "'Penzias'\n",
      "'1986'\n",
      "'Ernst'\n",
      "'Ruska'\n",
      "'1986'\n",
      "'Gerd'\n",
      "'Binnig'\n",
      "'1987'\n",
      "'J. Georg'\n",
      "'Bednorz'\n",
      "'1988'\n",
      "'Jack'\n",
      "'Steinberger'\n",
      "'1989'\n",
      "'Hans G.'\n",
      "'Dehmelt'\n",
      "'1989'\n",
      "'Wolfgang'\n",
      "'Paul'\n",
      "'1998'\n",
      "'Horst L.'\n",
      "'Störmer'\n",
      "'1902'\n",
      "'Emil'\n",
      "'Fischer'\n",
      "'1905'\n",
      "'Adolf'\n",
      "'von Baeyer'\n",
      "'1907'\n",
      "'Eduard'\n",
      "'Buchner'\n",
      "'1915'\n",
      "'Richard'\n",
      "'Willstätter'\n",
      "'1927'\n",
      "'Heinrich'\n",
      "'Wieland'\n",
      "'1928'\n",
      "'Adolf'\n",
      "'Windaus'\n",
      "'1929'\n",
      "'Hans'\n",
      "'von Euler-Chelpin'\n",
      "'1930'\n",
      "'Hans'\n",
      "'Fischer'\n",
      "'1931'\n",
      "'Carl'\n",
      "'Bosch'\n",
      "'1939'\n",
      "'Adolf'\n",
      "'Butenandt'\n",
      "'1944'\n",
      "'Otto'\n",
      "'Hahn'\n",
      "'1950'\n",
      "'Otto'\n",
      "'Diels'\n",
      "'1953'\n",
      "'Hermann'\n",
      "'Staudinger'\n",
      "'1963'\n",
      "'Karl'\n",
      "'Ziegler'\n",
      "'1967'\n",
      "'Manfred'\n",
      "'Eigen'\n",
      "'1971'\n",
      "'Gerhard'\n",
      "'Herzberg'\n",
      "'1973'\n",
      "'Ernst Otto'\n",
      "'Fischer'\n",
      "'1979'\n",
      "'Georg'\n",
      "'Wittig'\n",
      "'1986'\n",
      "'John C.'\n",
      "'Polanyi'\n",
      "'1988'\n",
      "'Johann'\n",
      "'Deisenhofer'\n",
      "'1988'\n",
      "'Robert'\n",
      "'Huber'\n",
      "'1988'\n",
      "'Hartmut'\n",
      "'Michel'\n",
      "'1905'\n",
      "'Robert'\n",
      "'Koch'\n",
      "'1910'\n",
      "'Albrecht'\n",
      "'Kossel'\n",
      "'1922'\n",
      "'Otto'\n",
      "'Meyerhof'\n",
      "'1931'\n",
      "'Otto'\n",
      "'Warburg'\n",
      "'1935'\n",
      "'Hans'\n",
      "'Spemann'\n",
      "'1936'\n",
      "'Otto'\n",
      "'Loewi'\n",
      "'1945'\n",
      "'Ernst B.'\n",
      "'Chain'\n",
      "'1953'\n",
      "'Hans'\n",
      "'Krebs'\n",
      "'1956'\n",
      "'Werner'\n",
      "'Forssmann'\n",
      "'1964'\n",
      "'Feodor'\n",
      "'Lynen'\n",
      "'1969'\n",
      "'Max'\n",
      "'Delbrück'\n",
      "'1970'\n",
      "'Sir Bernard'\n",
      "'Katz'\n",
      "'1984'\n",
      "'Georges J.F.'\n",
      "'Köhler'\n",
      "'1991'\n",
      "'Erwin'\n",
      "'Neher'\n",
      "'1991'\n",
      "'Bert'\n",
      "'Sakmann'\n",
      "'1995'\n",
      "'Christiane'\n",
      "'Nüsslein-Volhard'\n",
      "'1926'\n",
      "'Gustav'\n",
      "'Stresemann'\n",
      "'1927'\n",
      "'Ludwig'\n",
      "'Quidde'\n",
      "'1935'\n",
      "'Carl'\n",
      "'von Ossietzky'\n",
      "'1971'\n",
      "'Willy'\n",
      "'Brandt'\n",
      "'1973'\n",
      "'Henry'\n",
      "'Kissinger'\n",
      "'1902'\n",
      "'Theodor'\n",
      "'Mommsen'\n",
      "'1908'\n",
      "'Rudolf'\n",
      "'Eucken'\n",
      "'1910'\n",
      "'Paul'\n",
      "'Heyse'\n",
      "'1929'\n",
      "'Thomas'\n",
      "'Mann'\n",
      "'1946'\n",
      "'Hermann'\n",
      "'Hesse'\n",
      "'1966'\n",
      "'Nelly'\n",
      "'Sachs'\n",
      "'1972'\n",
      "'Heinrich'\n",
      "'Böll'\n",
      "'2000'\n",
      "'Herbert'\n",
      "'Kroemer'\n",
      "'2001'\n",
      "'Wolfgang'\n",
      "'Ketterle'\n",
      "'2005'\n",
      "'Theodor W.'\n",
      "'Hänsch'\n",
      "'2005'\n",
      "'Robert J.'\n",
      "'Aumann'\n",
      "'2007'\n",
      "'Gerhard'\n",
      "'Ertl'\n",
      "'2008'\n",
      "'Harald'\n",
      "'zur Hausen'\n",
      "'2013'\n",
      "'Thomas C.'\n",
      "'Südhof'\n",
      "'2017'\n",
      "'Rainer'\n",
      "'Weiss'\n",
      "'2017'\n",
      "'Joachim'\n",
      "'Frank'\n",
      "'2019'\n",
      "'John'\n",
      "'Goodenough'\n",
      "'2020'\n",
      "'Reinhard'\n",
      "'Genzel'\n"
     ]
    }
   ],
   "source": [
    "# TODO: Find all physics nobel laureates that are from Germany\n",
    "# print the year of the first prize, the first name, and surename\n",
    "cursor = db.laureates.find({'$or': [{'bornCountry' : {'$regex': 'now Germany'}}, {'bornCountry': 'Germany'}]})\n",
    "for document in cursor:\n",
    "    pprint(document['prizes'][0]['year'])\n",
    "    pprint(document['firstname'])\n",
    "    pprint(document['surname'])"
   ]
  },
  {
   "cell_type": "code",
   "execution_count": 73,
   "metadata": {},
   "outputs": [
    {
     "name": "stdout",
     "output_type": "stream",
     "text": [
      "1901\n",
      "Wilhelm Conrad\n",
      "Röntgen\n"
     ]
    }
   ],
   "source": [
    "# TODO: Find all physics nobel laureates that are from Germany\n",
    "# print the year of the first prize, the first name, and surename\n",
    "result = db.laureates.find_one({'$or': [{'bornCountry' : {'$regex': 'now Germany'}}, {'bornCountry': 'Germany'}]})\n",
    "\n",
    "print(result['prizes'][0]['year'])\n",
    "print(result['firstname'])\n",
    "print(result['surname'])"
   ]
  },
  {
   "cell_type": "code",
   "execution_count": 75,
   "metadata": {
    "scrolled": true
   },
   "outputs": [
    {
     "name": "stdout",
     "output_type": "stream",
     "text": [
      "{'_id': ObjectId('609feab997b4e4e307162367'),\n",
      " 'born': '1997-07-12',\n",
      " 'bornCity': 'Mingora',\n",
      " 'bornCountry': 'Pakistan',\n",
      " 'bornCountryCode': 'PK',\n",
      " 'died': '0000-00-00',\n",
      " 'firstname': 'Malala',\n",
      " 'gender': 'female',\n",
      " 'id': '914',\n",
      " 'prizes': [{'affiliations': [[]],\n",
      "             'category': 'peace',\n",
      "             'motivation': '\"for their struggle against the suppression of '\n",
      "                           'children and young people and for the right of all '\n",
      "                           'children to education\"',\n",
      "             'share': '2',\n",
      "             'year': '2014'}],\n",
      " 'surname': 'Yousafzai'}\n"
     ]
    }
   ],
   "source": [
    "# TODO: find and print the document for \"Malala\" (firstname)\n",
    "result = db.laureates.find_one({'firstname': 'Malala'})\n",
    "pprint(result)"
   ]
  },
  {
   "cell_type": "markdown",
   "metadata": {},
   "source": [
    "## Sort()\n",
    "\n",
    "With `sort()` you can sort the list of documents. The parameter of sort is a list of sorting tuples. Each tuple is a value and an integer value 1 or -1 which states whether the collection to be sorted in ascending (1) or descending (-1) order.\n",
    "\n",
    "Sort all restaurants according to the grade in ascending order.\n",
    "```python\n",
    "cursor = db.restaurants.find().sort([(\"grades.grade\", 1)])\n",
    "```"
   ]
  },
  {
   "cell_type": "code",
   "execution_count": 104,
   "metadata": {},
   "outputs": [
    {
     "name": "stdout",
     "output_type": "stream",
     "text": [
      "'1903'\n",
      "'Marie'\n",
      "'Curie'\n",
      "'1905'\n",
      "'Bertha'\n",
      "'von Suttner'\n",
      "'1909'\n",
      "'Selma'\n",
      "'Lagerlöf'\n",
      "'1926'\n",
      "'Grazia'\n",
      "'Deledda'\n",
      "'1928'\n",
      "'Sigrid'\n",
      "'Undset'\n",
      "'1931'\n",
      "'Jane'\n",
      "'Addams'\n",
      "'1935'\n",
      "'Irène'\n",
      "'Joliot-Curie'\n",
      "'1938'\n",
      "'Pearl'\n",
      "'Buck'\n",
      "'1945'\n",
      "'Gabriela'\n",
      "'Mistral'\n",
      "'1946'\n",
      "'Emily Greene'\n",
      "'Balch'\n",
      "'1947'\n",
      "'Gerty'\n",
      "'Cori'\n",
      "'1963'\n",
      "'Maria'\n",
      "'Goeppert Mayer'\n",
      "'1964'\n",
      "'Dorothy Crowfoot'\n",
      "'Hodgkin'\n",
      "'1966'\n",
      "'Nelly'\n",
      "'Sachs'\n",
      "'1976'\n",
      "'Betty'\n",
      "'Williams'\n",
      "'1976'\n",
      "'Mairead'\n",
      "'Corrigan'\n",
      "'1977'\n",
      "'Rosalyn'\n",
      "'Yalow'\n",
      "'1979'\n",
      "'Anjezë Gonxhe'\n",
      "'Bojaxhiu'\n",
      "'1982'\n",
      "'Alva'\n",
      "'Myrdal'\n",
      "'1983'\n",
      "'Barbara'\n",
      "'McClintock'\n",
      "'1986'\n",
      "'Rita'\n",
      "'Levi-Montalcini'\n",
      "'1988'\n",
      "'Gertrude B.'\n",
      "'Elion'\n",
      "'1991'\n",
      "'Aung San Suu Kyi'\n",
      "'1991'\n",
      "'Nadine'\n",
      "'Gordimer'\n",
      "'1992'\n",
      "'Rigoberta'\n",
      "'Menchú Tum'\n",
      "'1993'\n",
      "'Toni'\n",
      "'Morrison'\n",
      "'1995'\n",
      "'Christiane'\n",
      "'Nüsslein-Volhard'\n",
      "'1996'\n",
      "'Wislawa'\n",
      "'Szymborska'\n",
      "'1997'\n",
      "'Jody'\n",
      "'Williams'\n",
      "'2003'\n",
      "'Shirin'\n",
      "'Ebadi'\n",
      "'2004'\n",
      "'Linda B.'\n",
      "'Buck'\n",
      "'2004'\n",
      "'Elfriede'\n",
      "'Jelinek'\n",
      "'2004'\n",
      "'Wangari'\n",
      "'Maathai'\n",
      "'2007'\n",
      "'Doris'\n",
      "'Lessing'\n",
      "'2008'\n",
      "'Françoise'\n",
      "'Barré-Sinoussi'\n",
      "'2009'\n",
      "'Elizabeth H.'\n",
      "'Blackburn'\n",
      "'2009'\n",
      "'Carol W.'\n",
      "'Greider'\n",
      "'2009'\n",
      "'Ada E.'\n",
      "'Yonath'\n",
      "'2009'\n",
      "'Herta'\n",
      "'Müller'\n",
      "'2009'\n",
      "'Elinor'\n",
      "'Ostrom'\n",
      "'2011'\n",
      "'Ellen'\n",
      "'Johnson Sirleaf'\n",
      "'2011'\n",
      "'Leymah'\n",
      "'Gbowee'\n",
      "'2011'\n",
      "'Tawakkol'\n",
      "'Karman'\n",
      "'2013'\n",
      "'Alice'\n",
      "'Munro'\n",
      "'2014'\n",
      "'May-Britt'\n",
      "'Moser'\n",
      "'2014'\n",
      "'Malala'\n",
      "'Yousafzai'\n",
      "'2015'\n",
      "'Youyou'\n",
      "'Tu'\n",
      "'2015'\n",
      "'Svetlana'\n",
      "'Alexievich'\n",
      "'2018'\n",
      "'Donna'\n",
      "'Strickland'\n",
      "'2018'\n",
      "'Frances H.'\n",
      "'Arnold'\n",
      "'2018'\n",
      "'Nadia'\n",
      "'Murad'\n",
      "'2018'\n",
      "'Olga'\n",
      "'Tokarczuk'\n",
      "'2019'\n",
      "'Esther'\n",
      "'Duflo'\n",
      "'2020'\n",
      "'Andrea'\n",
      "'Ghez'\n",
      "'2020'\n",
      "'Emmanuelle'\n",
      "'Charpentier'\n",
      "'2020'\n",
      "'Jennifer A.'\n",
      "'Doudna'\n",
      "'2020'\n",
      "'Louise'\n",
      "'Glück'\n"
     ]
    }
   ],
   "source": [
    "# TODO: Find only female nobel laureates \n",
    "# and sort them according the the prize year in ascending order\n",
    "# print year of the first prize, firstname, and surename\n",
    "cursor = db.laureates.find({'gender': 'female'}).sort([('prizes.year', 1)])\n",
    "\n",
    "for document in cursor:\n",
    "    pprint(document['prizes'][0]['year'])\n",
    "    pprint(document['firstname'])\n",
    "    if 'surname' in document:\n",
    "        pprint(document['surname'])"
   ]
  }
 ],
 "metadata": {
  "celltoolbar": "Raw Cell Format",
  "kernelspec": {
   "display_name": "Python 3",
   "language": "python",
   "name": "python3"
  },
  "language_info": {
   "codemirror_mode": {
    "name": "ipython",
    "version": 3
   },
   "file_extension": ".py",
   "mimetype": "text/x-python",
   "name": "python",
   "nbconvert_exporter": "python",
   "pygments_lexer": "ipython3",
   "version": "3.8.5"
  },
  "varInspector": {
   "cols": {
    "lenName": 16,
    "lenType": 16,
    "lenVar": 40
   },
   "kernels_config": {
    "python": {
     "delete_cmd_postfix": "",
     "delete_cmd_prefix": "del ",
     "library": "var_list.py",
     "varRefreshCmd": "print(var_dic_list())"
    },
    "r": {
     "delete_cmd_postfix": ") ",
     "delete_cmd_prefix": "rm(",
     "library": "var_list.r",
     "varRefreshCmd": "cat(var_dic_list()) "
    }
   },
   "types_to_exclude": [
    "module",
    "function",
    "builtin_function_or_method",
    "instance",
    "_Feature"
   ],
   "window_display": false
  }
 },
 "nbformat": 4,
 "nbformat_minor": 4
}
